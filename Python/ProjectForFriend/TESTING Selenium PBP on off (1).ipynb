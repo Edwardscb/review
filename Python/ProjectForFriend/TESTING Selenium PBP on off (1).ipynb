{
 "cells": [
  {
   "cell_type": "code",
   "execution_count": 1,
   "id": "4cbc508c-bad3-41a8-9ee7-776c599fc968",
   "metadata": {},
   "outputs": [],
   "source": [
    "from selenium import webdriver\n",
    "from selenium.webdriver.support.ui import WebDriverWait\n",
    "from selenium.webdriver.common.keys import Keys \n",
    "from selenium.webdriver.common.by import By\n",
    "from selenium.webdriver.support import expected_conditions as EC\n",
    "from selenium.webdriver import ActionChains\n",
    "import itertools as it\n",
    "import time\n",
    "from itertools import combinations\n",
    "import re\n",
    "from bs4 import BeautifulSoup\n",
    "import html5lib\n",
    "import pandas as pd\n",
    "import requests\n",
    "\n",
    "\n",
    "#!pip install webdriver-manager"
   ]
  },
  {
   "cell_type": "code",
   "execution_count": 2,
   "id": "68f16ab7-5a80-46b8-9eff-e05409b98fe6",
   "metadata": {},
   "outputs": [
    {
     "name": "stderr",
     "output_type": "stream",
     "text": [
      "C:\\Users\\david\\AppData\\Local\\Temp\\ipykernel_10236\\2160715986.py:4: DeprecationWarning: executable_path has been deprecated, please pass in a Service object\n",
      "  driver = webdriver.Chrome(ChromeDriverManager().install())\n"
     ]
    }
   ],
   "source": [
    "from selenium import webdriver\n",
    "from webdriver_manager.chrome import ChromeDriverManager\n",
    "\n",
    "driver = webdriver.Chrome(ChromeDriverManager().install())"
   ]
  },
  {
   "cell_type": "code",
   "execution_count": 3,
   "id": "79d7864e-dc4b-4cff-b429-edd17c4b0756",
   "metadata": {},
   "outputs": [],
   "source": [
    "Mia = 1610612748\n",
    "Mem = 1610612763\n",
    "Gsw = 1610612744\n",
    "Jaz = 1610612762\n",
    "Pho = 1610612756\n",
    "Bos = 1610612738\n",
    "Den = 1610612743\n",
    "Mil = 1610612749\n",
    "Min = 1610612750\n",
    "Chi = 1610612741\n",
    "Phi = 1610612755\n",
    "Atl = 1610612737\n",
    "Por = 1610612757\n",
    "Nop = 1610612740\n",
    "Okc = 1610612760\n",
    "Sas = 1610612759\n",
    "Lal = 1610612747\n",
    "Dal = 1610612742\n",
    "Bkn = 1610612751\n",
    "Cle = 1610612739\n",
    "Cha = 1610612766\n",
    "Sac = 1610612758\n",
    "Ind = 1610612754\n",
    "Orl = 1610612753\n",
    "Lac = 1610612746\n",
    "Nyk = 1610612752\n",
    "Tor = 1610612761\n",
    "Det = 1610612765\n",
    "Hou = 1610612745\n",
    "Was = 1610612764\n",
    "\n",
    "\n"
   ]
  },
  {
   "cell_type": "code",
   "execution_count": 4,
   "id": "17abb6da-7927-4f86-975e-de937a1bcd4a",
   "metadata": {},
   "outputs": [],
   "source": [
    "atl_p = [1629027, 203991, 1626153]\n",
    "bos_p = [1628369, 1629057, 201143]\n",
    "bkn_p = [201142, 201935, 202681, 1628971]\n",
    "cha_p = [1630163, 1628970, 1626179]\n",
    "chi_p = [201942, 203897, 202696]\n",
    "cle_p = [1629636, 1628386, 201567]\n",
    "dal_p = [1629029, 1628973, 1627827]\n",
    "den_p = [203999, 1628420, 203932]\n",
    "det_p = [1630180, 203924, 203482]\n",
    "gsw_p = [201939, 1627780, 203490]\n",
    "hou_p = [1626174, 1630231, 1630578]\n",
    "ind_p = [1627734, 1627763, 1626167]\n",
    "lac_p = [1628392, 201587, 202331]\n",
    "lal_p = [2544, 203076, 1628370]\n",
    "mem_p = [1629630, 1630217, 203500]\n",
    "mia_p = [202710, 1628389, 200768]\n",
    "mil_p = [203507, 201950, 203114]\n",
    "min_p = [1626157, 1630162, 201976]\n",
    "nop_p = [202685, 1627742, 203468]\n",
    "nyk_p = [1629011, 202692, 203944]\n",
    "okc_p = [1628983, 203488, 1629676]\n",
    "orl_p = [1628976, 1628964, 1629021]\n",
    "phi_p = [203954, 1630178, 202699]\n",
    "pho_p = [101108, 1626164, 1628969]\n",
    "por_p = [203994, 203081, 203468]\n",
    "sac_p = [1630169, 203084, 1628368]\n",
    "sas_p = [1627749, 1627751, 1628401]\n",
    "tor_p = [1627783, 1627832, 1630567]\n",
    "jaz_p = [203497, 1628378, 201144]\n",
    "was_p = [1626149, 1629655, 1628398]\n",
    "\n",
    "\n",
    "#bkn_p\n",
    "player_ids = [atl_p, bos_p, bkn_p, cha_p, chi_p, cle_p, dal_p, den_p, det_p, gsw_p, hou_p, ind_p, lac_p, lal_p, mem_p, mia_p, mil_p, min_p,\n",
    "              nop_p, nyk_p, okc_p, orl_p, phi_p, pho_p, por_p, sac_p, sas_p, tor_p, jaz_p, was_p]\n",
    "#Bkn\n",
    "teams = [Atl, Bos, Bkn, Cha, Chi, Cle, Dal, Den, Det, Gsw, Ind, Lac, Lal, Mem, Mia, Mil, Min, Nop, Nyk, Okc, Orl, Phi, Pho, Por, Sac, Sas, Tor, Jaz, Was]"
   ]
  },
  {
   "cell_type": "code",
   "execution_count": 5,
   "id": "7d86c3ad-2390-405f-81b7-814c74de9c31",
   "metadata": {},
   "outputs": [
    {
     "ename": "NoSuchWindowException",
     "evalue": "Message: no such window: target window already closed\nfrom unknown error: web view not found\n  (Session info: chrome=106.0.5249.119)\nStacktrace:\nBacktrace:\n\tOrdinal0 [0x00991ED3+2236115]\n\tOrdinal0 [0x009292F1+1807089]\n\tOrdinal0 [0x008366FD+812797]\n\tOrdinal0 [0x0081DFFA+712698]\n\tOrdinal0 [0x0088506B+1134699]\n\tOrdinal0 [0x0089514A+1200458]\n\tOrdinal0 [0x008818A6+1120422]\n\tOrdinal0 [0x0085A73D+960317]\n\tOrdinal0 [0x0085B71F+964383]\n\tGetHandleVerifier [0x00C3E7E2+2743074]\n\tGetHandleVerifier [0x00C308D4+2685972]\n\tGetHandleVerifier [0x00A22BAA+532202]\n\tGetHandleVerifier [0x00A21990+527568]\n\tOrdinal0 [0x0093080C+1837068]\n\tOrdinal0 [0x00934CD8+1854680]\n\tOrdinal0 [0x00934DC5+1854917]\n\tOrdinal0 [0x0093ED64+1895780]\n\tBaseThreadInitThunk [0x76F17BA9+25]\n\tRtlInitializeExceptionChain [0x77BCBB3B+107]\n\tRtlClearBits [0x77BCBABF+191]\n",
     "output_type": "error",
     "traceback": [
      "\u001b[1;31m---------------------------------------------------------------------------\u001b[0m",
      "\u001b[1;31mNoSuchWindowException\u001b[0m                     Traceback (most recent call last)",
      "Input \u001b[1;32mIn [5]\u001b[0m, in \u001b[0;36m<cell line: 3>\u001b[1;34m()\u001b[0m\n\u001b[0;32m      8\u001b[0m         play_entry \u001b[38;5;241m=\u001b[39m (\u001b[38;5;124m'\u001b[39m\u001b[38;5;124m,\u001b[39m\u001b[38;5;124m'\u001b[39m\u001b[38;5;241m.\u001b[39mjoin(\u001b[38;5;28mstr\u001b[39m(p) \u001b[38;5;28;01mfor\u001b[39;00m p \u001b[38;5;129;01min\u001b[39;00m player))\n\u001b[0;32m      9\u001b[0m     url \u001b[38;5;241m=\u001b[39m url_start\u001b[38;5;241m.\u001b[39mformat(play_entry, play_entry, team)\n\u001b[1;32m---> 10\u001b[0m     \u001b[43mdriver\u001b[49m\u001b[38;5;241;43m.\u001b[39;49m\u001b[43mget\u001b[49m\u001b[43m(\u001b[49m\u001b[43murl\u001b[49m\u001b[43m)\u001b[49m\n\u001b[0;32m     11\u001b[0m \u001b[38;5;66;03m#time.sleep(15)\u001b[39;00m\n\u001b[0;32m     12\u001b[0m \u001b[38;5;28mprint\u001b[39m(url)\n",
      "File \u001b[1;32m~\\anaconda3\\lib\\site-packages\\selenium\\webdriver\\remote\\webdriver.py:441\u001b[0m, in \u001b[0;36mWebDriver.get\u001b[1;34m(self, url)\u001b[0m\n\u001b[0;32m    437\u001b[0m \u001b[38;5;28;01mdef\u001b[39;00m \u001b[38;5;21mget\u001b[39m(\u001b[38;5;28mself\u001b[39m, url: \u001b[38;5;28mstr\u001b[39m) \u001b[38;5;241m-\u001b[39m\u001b[38;5;241m>\u001b[39m \u001b[38;5;28;01mNone\u001b[39;00m:\n\u001b[0;32m    438\u001b[0m     \u001b[38;5;124;03m\"\"\"\u001b[39;00m\n\u001b[0;32m    439\u001b[0m \u001b[38;5;124;03m    Loads a web page in the current browser session.\u001b[39;00m\n\u001b[0;32m    440\u001b[0m \u001b[38;5;124;03m    \"\"\"\u001b[39;00m\n\u001b[1;32m--> 441\u001b[0m     \u001b[38;5;28;43mself\u001b[39;49m\u001b[38;5;241;43m.\u001b[39;49m\u001b[43mexecute\u001b[49m\u001b[43m(\u001b[49m\u001b[43mCommand\u001b[49m\u001b[38;5;241;43m.\u001b[39;49m\u001b[43mGET\u001b[49m\u001b[43m,\u001b[49m\u001b[43m \u001b[49m\u001b[43m{\u001b[49m\u001b[38;5;124;43m'\u001b[39;49m\u001b[38;5;124;43murl\u001b[39;49m\u001b[38;5;124;43m'\u001b[39;49m\u001b[43m:\u001b[49m\u001b[43m \u001b[49m\u001b[43murl\u001b[49m\u001b[43m}\u001b[49m\u001b[43m)\u001b[49m\n",
      "File \u001b[1;32m~\\anaconda3\\lib\\site-packages\\selenium\\webdriver\\remote\\webdriver.py:429\u001b[0m, in \u001b[0;36mWebDriver.execute\u001b[1;34m(self, driver_command, params)\u001b[0m\n\u001b[0;32m    427\u001b[0m response \u001b[38;5;241m=\u001b[39m \u001b[38;5;28mself\u001b[39m\u001b[38;5;241m.\u001b[39mcommand_executor\u001b[38;5;241m.\u001b[39mexecute(driver_command, params)\n\u001b[0;32m    428\u001b[0m \u001b[38;5;28;01mif\u001b[39;00m response:\n\u001b[1;32m--> 429\u001b[0m     \u001b[38;5;28;43mself\u001b[39;49m\u001b[38;5;241;43m.\u001b[39;49m\u001b[43merror_handler\u001b[49m\u001b[38;5;241;43m.\u001b[39;49m\u001b[43mcheck_response\u001b[49m\u001b[43m(\u001b[49m\u001b[43mresponse\u001b[49m\u001b[43m)\u001b[49m\n\u001b[0;32m    430\u001b[0m     response[\u001b[38;5;124m'\u001b[39m\u001b[38;5;124mvalue\u001b[39m\u001b[38;5;124m'\u001b[39m] \u001b[38;5;241m=\u001b[39m \u001b[38;5;28mself\u001b[39m\u001b[38;5;241m.\u001b[39m_unwrap_value(\n\u001b[0;32m    431\u001b[0m         response\u001b[38;5;241m.\u001b[39mget(\u001b[38;5;124m'\u001b[39m\u001b[38;5;124mvalue\u001b[39m\u001b[38;5;124m'\u001b[39m, \u001b[38;5;28;01mNone\u001b[39;00m))\n\u001b[0;32m    432\u001b[0m     \u001b[38;5;28;01mreturn\u001b[39;00m response\n",
      "File \u001b[1;32m~\\anaconda3\\lib\\site-packages\\selenium\\webdriver\\remote\\errorhandler.py:243\u001b[0m, in \u001b[0;36mErrorHandler.check_response\u001b[1;34m(self, response)\u001b[0m\n\u001b[0;32m    241\u001b[0m         alert_text \u001b[38;5;241m=\u001b[39m value[\u001b[38;5;124m'\u001b[39m\u001b[38;5;124malert\u001b[39m\u001b[38;5;124m'\u001b[39m]\u001b[38;5;241m.\u001b[39mget(\u001b[38;5;124m'\u001b[39m\u001b[38;5;124mtext\u001b[39m\u001b[38;5;124m'\u001b[39m)\n\u001b[0;32m    242\u001b[0m     \u001b[38;5;28;01mraise\u001b[39;00m exception_class(message, screen, stacktrace, alert_text)  \u001b[38;5;66;03m# type: ignore[call-arg]  # mypy is not smart enough here\u001b[39;00m\n\u001b[1;32m--> 243\u001b[0m \u001b[38;5;28;01mraise\u001b[39;00m exception_class(message, screen, stacktrace)\n",
      "\u001b[1;31mNoSuchWindowException\u001b[0m: Message: no such window: target window already closed\nfrom unknown error: web view not found\n  (Session info: chrome=106.0.5249.119)\nStacktrace:\nBacktrace:\n\tOrdinal0 [0x00991ED3+2236115]\n\tOrdinal0 [0x009292F1+1807089]\n\tOrdinal0 [0x008366FD+812797]\n\tOrdinal0 [0x0081DFFA+712698]\n\tOrdinal0 [0x0088506B+1134699]\n\tOrdinal0 [0x0089514A+1200458]\n\tOrdinal0 [0x008818A6+1120422]\n\tOrdinal0 [0x0085A73D+960317]\n\tOrdinal0 [0x0085B71F+964383]\n\tGetHandleVerifier [0x00C3E7E2+2743074]\n\tGetHandleVerifier [0x00C308D4+2685972]\n\tGetHandleVerifier [0x00A22BAA+532202]\n\tGetHandleVerifier [0x00A21990+527568]\n\tOrdinal0 [0x0093080C+1837068]\n\tOrdinal0 [0x00934CD8+1854680]\n\tOrdinal0 [0x00934DC5+1854917]\n\tOrdinal0 [0x0093ED64+1895780]\n\tBaseThreadInitThunk [0x76F17BA9+25]\n\tRtlInitializeExceptionChain [0x77BCBB3B+107]\n\tRtlClearBits [0x77BCBABF+191]\n"
     ]
    }
   ],
   "source": [
    "url_start = \"https://www.pbpstats.com/wowy/nba?0Exactly2OffFloor={}&1Exactly2PlayedInGame={}&TeamId={}&Season=2021-22&SeasonType=Regular%20Season&Type=Player&Table=Scoring&StatType=Totals\"\n",
    "\n",
    "# initialize empty array variable\n",
    "play_combo = []\n",
    "# get all possible player combinations - basically [[1,2], [2,3], [1,3]]\n",
    "for play in player_ids:\n",
    "    play_combo = it.combinations(play, 2)\n",
    "print(play_combo)\n",
    "\n",
    "\n",
    "def get_All_Combos(players, teams, t_counter=0, p_counter=0):\n",
    "    if (t_counter >= teams.length):\n",
    "        return\n",
    "    elif (p_counter >= len(players[p_counter])):\n",
    "        print(players[p_counter])\n",
    "        p_counter = 0\n",
    "        t_counter += 1\n",
    "        print(p_counter, t_counter)\n",
    "    else:\n",
    "        teamName = f\"team = {teams[t_counter]}\"\n",
    "        for p in players[p_counter]:\n",
    "            combo = f\"players = {p[0]}, {p[1]}\"\n",
    "            print(combo)\n",
    "        p_counter += 1\n",
    "        t_counter += 1\n",
    "        get_All_Combos(players, teams, t_counter, p_counter)\n",
    "\n",
    "        \n",
    "for play in player_ids:\n",
    "    play_combo = it.combinations(play, 2)\n",
    "    for team in teams:\n",
    "    \n",
    "        for player in play_combo:\n",
    "            play_entry = (','.join(str(p) for p in player))\n",
    "        url = url_start.format(play_entry, play_entry, team)\n",
    "        driver.get(url)\n",
    "    #time.sleep(15)\n",
    "    print(url)\n",
    "\n",
    "\n",
    "        \n",
    "    #html = driver.page_source\n",
    "    #with open(\"C:/Users/david/NBA Stats/On_Off_BP_{}_{}\".format(team, play_entry), \"w\", encoding=\"utf-8\") as f:\n",
    "        #f.write(html)\n",
    "    #time.sleep(10)"
   ]
  },
  {
   "cell_type": "raw",
   "id": "ed30e37d-8e3c-4277-9872-1a2764884860",
   "metadata": {},
   "source": [
    "with open(\"On_Off_BP_{}_{}\".format(team, play_entry), encoding=\"utf-8\") as f:\n",
    "    page = f.read()\n",
    "soup = BeautifulSoup(page, \"html.parser\")\n",
    "per_game_table = soup.find(id=\"vgt-table\")\n",
    "df = pd.read_html(str(per_game_table))[0]\n",
    "df.to_csv(\"PBP_On_Off_{}.csv\").format(play_entry)"
   ]
  },
  {
   "cell_type": "code",
   "execution_count": null,
   "id": "cca17794-95e5-4be0-ac3e-7ed2988937fd",
   "metadata": {},
   "outputs": [],
   "source": [
    " #report1 = driver.find_element(\"xpath\",\"//*[@id='__next']/div[2]/div[2]/main/div[3]/section[3]/div/div[2]/div[2]/div[1]/div[3]/div/label/div/select/option[1]\")\n",
    "\n",
    "    #report1.click()\n",
    "#https://www.pbpstats.com/wowy/nba?0Exactly2OffFloor=1629027,203991&1Exactly2PlayedInGame=1629027,203991&TeamId=1610612737&Season=2021-22&SeasonType=Regular+Season&Type=Player&Table=Scoring&StatType=Totals\n",
    "#https://www.pbpstats.com/wowy/nba?0Exactly2OffFloor=1629027,203991&TeamId=1610612737&Season=2021-22&SeasonType=Regular+Season&Type=Player&StatType=Totals&Table=Scoring"
   ]
  }
 ],
 "metadata": {
  "kernelspec": {
   "display_name": "Python 3 (ipykernel)",
   "language": "python",
   "name": "python3"
  },
  "language_info": {
   "codemirror_mode": {
    "name": "ipython",
    "version": 3
   },
   "file_extension": ".py",
   "mimetype": "text/x-python",
   "name": "python",
   "nbconvert_exporter": "python",
   "pygments_lexer": "ipython3",
   "version": "3.9.12"
  }
 },
 "nbformat": 4,
 "nbformat_minor": 5
}
